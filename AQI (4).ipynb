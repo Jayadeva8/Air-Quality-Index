{
 "cells": [
  {
   "cell_type": "code",
   "execution_count": 1,
   "metadata": {},
   "outputs": [],
   "source": [
    "import numpy as np\n",
    "import pandas as pd"
   ]
  },
  {
   "cell_type": "code",
   "execution_count": 2,
   "metadata": {},
   "outputs": [],
   "source": [
    "path2=r\"C:\\Users\\JAYADEVA JAVALI\\Downloads\\archive (1)\\city_day.csv\"\n",
    "df2=pd.read_csv(path2)"
   ]
  },
  {
   "cell_type": "code",
   "execution_count": 3,
   "metadata": {},
   "outputs": [
    {
     "data": {
      "text/html": [
       "<div>\n",
       "<style scoped>\n",
       "    .dataframe tbody tr th:only-of-type {\n",
       "        vertical-align: middle;\n",
       "    }\n",
       "\n",
       "    .dataframe tbody tr th {\n",
       "        vertical-align: top;\n",
       "    }\n",
       "\n",
       "    .dataframe thead th {\n",
       "        text-align: right;\n",
       "    }\n",
       "</style>\n",
       "<table border=\"1\" class=\"dataframe\">\n",
       "  <thead>\n",
       "    <tr style=\"text-align: right;\">\n",
       "      <th></th>\n",
       "      <th>City</th>\n",
       "      <th>Date</th>\n",
       "      <th>PM2.5</th>\n",
       "      <th>PM10</th>\n",
       "      <th>NO</th>\n",
       "      <th>NO2</th>\n",
       "      <th>NOx</th>\n",
       "      <th>NH3</th>\n",
       "      <th>CO</th>\n",
       "      <th>SO2</th>\n",
       "      <th>O3</th>\n",
       "      <th>Benzene</th>\n",
       "      <th>Toluene</th>\n",
       "      <th>Xylene</th>\n",
       "      <th>AQI</th>\n",
       "      <th>AQI_Bucket</th>\n",
       "    </tr>\n",
       "  </thead>\n",
       "  <tbody>\n",
       "    <tr>\n",
       "      <th>0</th>\n",
       "      <td>Ahmedabad</td>\n",
       "      <td>2015-01-01</td>\n",
       "      <td>NaN</td>\n",
       "      <td>NaN</td>\n",
       "      <td>0.92</td>\n",
       "      <td>18.22</td>\n",
       "      <td>17.15</td>\n",
       "      <td>NaN</td>\n",
       "      <td>0.92</td>\n",
       "      <td>27.64</td>\n",
       "      <td>133.36</td>\n",
       "      <td>0.00</td>\n",
       "      <td>0.02</td>\n",
       "      <td>0.00</td>\n",
       "      <td>NaN</td>\n",
       "      <td>NaN</td>\n",
       "    </tr>\n",
       "    <tr>\n",
       "      <th>1</th>\n",
       "      <td>Ahmedabad</td>\n",
       "      <td>2015-01-02</td>\n",
       "      <td>NaN</td>\n",
       "      <td>NaN</td>\n",
       "      <td>0.97</td>\n",
       "      <td>15.69</td>\n",
       "      <td>16.46</td>\n",
       "      <td>NaN</td>\n",
       "      <td>0.97</td>\n",
       "      <td>24.55</td>\n",
       "      <td>34.06</td>\n",
       "      <td>3.68</td>\n",
       "      <td>5.50</td>\n",
       "      <td>3.77</td>\n",
       "      <td>NaN</td>\n",
       "      <td>NaN</td>\n",
       "    </tr>\n",
       "    <tr>\n",
       "      <th>2</th>\n",
       "      <td>Ahmedabad</td>\n",
       "      <td>2015-01-03</td>\n",
       "      <td>NaN</td>\n",
       "      <td>NaN</td>\n",
       "      <td>17.40</td>\n",
       "      <td>19.30</td>\n",
       "      <td>29.70</td>\n",
       "      <td>NaN</td>\n",
       "      <td>17.40</td>\n",
       "      <td>29.07</td>\n",
       "      <td>30.70</td>\n",
       "      <td>6.80</td>\n",
       "      <td>16.40</td>\n",
       "      <td>2.25</td>\n",
       "      <td>NaN</td>\n",
       "      <td>NaN</td>\n",
       "    </tr>\n",
       "    <tr>\n",
       "      <th>3</th>\n",
       "      <td>Ahmedabad</td>\n",
       "      <td>2015-01-04</td>\n",
       "      <td>NaN</td>\n",
       "      <td>NaN</td>\n",
       "      <td>1.70</td>\n",
       "      <td>18.48</td>\n",
       "      <td>17.97</td>\n",
       "      <td>NaN</td>\n",
       "      <td>1.70</td>\n",
       "      <td>18.59</td>\n",
       "      <td>36.08</td>\n",
       "      <td>4.43</td>\n",
       "      <td>10.14</td>\n",
       "      <td>1.00</td>\n",
       "      <td>NaN</td>\n",
       "      <td>NaN</td>\n",
       "    </tr>\n",
       "    <tr>\n",
       "      <th>4</th>\n",
       "      <td>Ahmedabad</td>\n",
       "      <td>2015-01-05</td>\n",
       "      <td>NaN</td>\n",
       "      <td>NaN</td>\n",
       "      <td>22.10</td>\n",
       "      <td>21.42</td>\n",
       "      <td>37.76</td>\n",
       "      <td>NaN</td>\n",
       "      <td>22.10</td>\n",
       "      <td>39.33</td>\n",
       "      <td>39.31</td>\n",
       "      <td>7.01</td>\n",
       "      <td>18.89</td>\n",
       "      <td>2.78</td>\n",
       "      <td>NaN</td>\n",
       "      <td>NaN</td>\n",
       "    </tr>\n",
       "  </tbody>\n",
       "</table>\n",
       "</div>"
      ],
      "text/plain": [
       "        City        Date  PM2.5  PM10     NO    NO2    NOx  NH3     CO    SO2  \\\n",
       "0  Ahmedabad  2015-01-01    NaN   NaN   0.92  18.22  17.15  NaN   0.92  27.64   \n",
       "1  Ahmedabad  2015-01-02    NaN   NaN   0.97  15.69  16.46  NaN   0.97  24.55   \n",
       "2  Ahmedabad  2015-01-03    NaN   NaN  17.40  19.30  29.70  NaN  17.40  29.07   \n",
       "3  Ahmedabad  2015-01-04    NaN   NaN   1.70  18.48  17.97  NaN   1.70  18.59   \n",
       "4  Ahmedabad  2015-01-05    NaN   NaN  22.10  21.42  37.76  NaN  22.10  39.33   \n",
       "\n",
       "       O3  Benzene  Toluene  Xylene  AQI AQI_Bucket  \n",
       "0  133.36     0.00     0.02    0.00  NaN        NaN  \n",
       "1   34.06     3.68     5.50    3.77  NaN        NaN  \n",
       "2   30.70     6.80    16.40    2.25  NaN        NaN  \n",
       "3   36.08     4.43    10.14    1.00  NaN        NaN  \n",
       "4   39.31     7.01    18.89    2.78  NaN        NaN  "
      ]
     },
     "execution_count": 3,
     "metadata": {},
     "output_type": "execute_result"
    }
   ],
   "source": [
    "df2.head()"
   ]
  },
  {
   "cell_type": "code",
   "execution_count": 4,
   "metadata": {},
   "outputs": [
    {
     "data": {
      "text/plain": [
       "(29531, 16)"
      ]
     },
     "execution_count": 4,
     "metadata": {},
     "output_type": "execute_result"
    }
   ],
   "source": [
    "df2.shape"
   ]
  },
  {
   "cell_type": "code",
   "execution_count": 5,
   "metadata": {},
   "outputs": [
    {
     "data": {
      "text/plain": [
       "City              0\n",
       "Date              0\n",
       "PM2.5          4598\n",
       "PM10          11140\n",
       "NO             3582\n",
       "NO2            3585\n",
       "NOx            4185\n",
       "NH3           10328\n",
       "CO             2059\n",
       "SO2            3854\n",
       "O3             4022\n",
       "Benzene        5623\n",
       "Toluene        8041\n",
       "Xylene        18109\n",
       "AQI            4681\n",
       "AQI_Bucket     4681\n",
       "dtype: int64"
      ]
     },
     "execution_count": 5,
     "metadata": {},
     "output_type": "execute_result"
    }
   ],
   "source": [
    "df2.isnull().sum()"
   ]
  },
  {
   "cell_type": "code",
   "execution_count": 6,
   "metadata": {},
   "outputs": [
    {
     "data": {
      "text/plain": [
       "Chennai               2009\n",
       "Delhi                 2009\n",
       "Lucknow               2009\n",
       "Mumbai                2009\n",
       "Bengaluru             2009\n",
       "Ahmedabad             2009\n",
       "Hyderabad             2006\n",
       "Patna                 1858\n",
       "Gurugram              1679\n",
       "Visakhapatnam         1462\n",
       "Amritsar              1221\n",
       "Jorapokhar            1169\n",
       "Jaipur                1114\n",
       "Thiruvananthapuram    1112\n",
       "Amaravati              951\n",
       "Brajrajnagar           938\n",
       "Talcher                925\n",
       "Kolkata                814\n",
       "Guwahati               502\n",
       "Coimbatore             386\n",
       "Shillong               310\n",
       "Chandigarh             304\n",
       "Bhopal                 289\n",
       "Kochi                  162\n",
       "Ernakulam              162\n",
       "Aizawl                 113\n",
       "Name: City, dtype: int64"
      ]
     },
     "execution_count": 6,
     "metadata": {},
     "output_type": "execute_result"
    }
   ],
   "source": [
    "df2['City'].value_counts()"
   ]
  },
  {
   "cell_type": "code",
   "execution_count": 7,
   "metadata": {},
   "outputs": [],
   "source": [
    "df_bangalore = df2[df2['City']=='Bengaluru']"
   ]
  },
  {
   "cell_type": "code",
   "execution_count": 8,
   "metadata": {},
   "outputs": [
    {
     "data": {
      "text/html": [
       "<div>\n",
       "<style scoped>\n",
       "    .dataframe tbody tr th:only-of-type {\n",
       "        vertical-align: middle;\n",
       "    }\n",
       "\n",
       "    .dataframe tbody tr th {\n",
       "        vertical-align: top;\n",
       "    }\n",
       "\n",
       "    .dataframe thead th {\n",
       "        text-align: right;\n",
       "    }\n",
       "</style>\n",
       "<table border=\"1\" class=\"dataframe\">\n",
       "  <thead>\n",
       "    <tr style=\"text-align: right;\">\n",
       "      <th></th>\n",
       "      <th>City</th>\n",
       "      <th>Date</th>\n",
       "      <th>PM2.5</th>\n",
       "      <th>PM10</th>\n",
       "      <th>NO</th>\n",
       "      <th>NO2</th>\n",
       "      <th>NOx</th>\n",
       "      <th>NH3</th>\n",
       "      <th>CO</th>\n",
       "      <th>SO2</th>\n",
       "      <th>O3</th>\n",
       "      <th>Benzene</th>\n",
       "      <th>Toluene</th>\n",
       "      <th>Xylene</th>\n",
       "      <th>AQI</th>\n",
       "      <th>AQI_Bucket</th>\n",
       "    </tr>\n",
       "  </thead>\n",
       "  <tbody>\n",
       "    <tr>\n",
       "      <th>4294</th>\n",
       "      <td>Bengaluru</td>\n",
       "      <td>2015-01-01</td>\n",
       "      <td>NaN</td>\n",
       "      <td>NaN</td>\n",
       "      <td>3.26</td>\n",
       "      <td>17.33</td>\n",
       "      <td>10.88</td>\n",
       "      <td>20.36</td>\n",
       "      <td>0.33</td>\n",
       "      <td>3.54</td>\n",
       "      <td>10.73</td>\n",
       "      <td>0.56</td>\n",
       "      <td>4.64</td>\n",
       "      <td>NaN</td>\n",
       "      <td>NaN</td>\n",
       "      <td>NaN</td>\n",
       "    </tr>\n",
       "    <tr>\n",
       "      <th>4295</th>\n",
       "      <td>Bengaluru</td>\n",
       "      <td>2015-01-02</td>\n",
       "      <td>NaN</td>\n",
       "      <td>NaN</td>\n",
       "      <td>6.05</td>\n",
       "      <td>19.73</td>\n",
       "      <td>14.14</td>\n",
       "      <td>23.74</td>\n",
       "      <td>1.35</td>\n",
       "      <td>3.97</td>\n",
       "      <td>22.77</td>\n",
       "      <td>0.65</td>\n",
       "      <td>5.31</td>\n",
       "      <td>NaN</td>\n",
       "      <td>NaN</td>\n",
       "      <td>NaN</td>\n",
       "    </tr>\n",
       "    <tr>\n",
       "      <th>4296</th>\n",
       "      <td>Bengaluru</td>\n",
       "      <td>2015-01-03</td>\n",
       "      <td>NaN</td>\n",
       "      <td>NaN</td>\n",
       "      <td>11.91</td>\n",
       "      <td>19.88</td>\n",
       "      <td>20.72</td>\n",
       "      <td>4.32</td>\n",
       "      <td>17.40</td>\n",
       "      <td>13.61</td>\n",
       "      <td>12.03</td>\n",
       "      <td>0.53</td>\n",
       "      <td>19.25</td>\n",
       "      <td>NaN</td>\n",
       "      <td>NaN</td>\n",
       "      <td>NaN</td>\n",
       "    </tr>\n",
       "    <tr>\n",
       "      <th>4297</th>\n",
       "      <td>Bengaluru</td>\n",
       "      <td>2015-01-04</td>\n",
       "      <td>NaN</td>\n",
       "      <td>NaN</td>\n",
       "      <td>7.45</td>\n",
       "      <td>21.61</td>\n",
       "      <td>16.88</td>\n",
       "      <td>0.87</td>\n",
       "      <td>5.05</td>\n",
       "      <td>6.52</td>\n",
       "      <td>17.70</td>\n",
       "      <td>0.55</td>\n",
       "      <td>7.47</td>\n",
       "      <td>NaN</td>\n",
       "      <td>NaN</td>\n",
       "      <td>NaN</td>\n",
       "    </tr>\n",
       "    <tr>\n",
       "      <th>4298</th>\n",
       "      <td>Bengaluru</td>\n",
       "      <td>2015-01-05</td>\n",
       "      <td>NaN</td>\n",
       "      <td>NaN</td>\n",
       "      <td>9.52</td>\n",
       "      <td>22.17</td>\n",
       "      <td>21.76</td>\n",
       "      <td>31.38</td>\n",
       "      <td>1.83</td>\n",
       "      <td>4.71</td>\n",
       "      <td>12.72</td>\n",
       "      <td>0.40</td>\n",
       "      <td>4.36</td>\n",
       "      <td>NaN</td>\n",
       "      <td>NaN</td>\n",
       "      <td>NaN</td>\n",
       "    </tr>\n",
       "  </tbody>\n",
       "</table>\n",
       "</div>"
      ],
      "text/plain": [
       "           City        Date  PM2.5  PM10     NO    NO2    NOx    NH3     CO  \\\n",
       "4294  Bengaluru  2015-01-01    NaN   NaN   3.26  17.33  10.88  20.36   0.33   \n",
       "4295  Bengaluru  2015-01-02    NaN   NaN   6.05  19.73  14.14  23.74   1.35   \n",
       "4296  Bengaluru  2015-01-03    NaN   NaN  11.91  19.88  20.72   4.32  17.40   \n",
       "4297  Bengaluru  2015-01-04    NaN   NaN   7.45  21.61  16.88   0.87   5.05   \n",
       "4298  Bengaluru  2015-01-05    NaN   NaN   9.52  22.17  21.76  31.38   1.83   \n",
       "\n",
       "        SO2     O3  Benzene  Toluene  Xylene  AQI AQI_Bucket  \n",
       "4294   3.54  10.73     0.56     4.64     NaN  NaN        NaN  \n",
       "4295   3.97  22.77     0.65     5.31     NaN  NaN        NaN  \n",
       "4296  13.61  12.03     0.53    19.25     NaN  NaN        NaN  \n",
       "4297   6.52  17.70     0.55     7.47     NaN  NaN        NaN  \n",
       "4298   4.71  12.72     0.40     4.36     NaN  NaN        NaN  "
      ]
     },
     "execution_count": 8,
     "metadata": {},
     "output_type": "execute_result"
    }
   ],
   "source": [
    "df_bangalore.head()"
   ]
  },
  {
   "cell_type": "code",
   "execution_count": 9,
   "metadata": {},
   "outputs": [
    {
     "data": {
      "text/plain": [
       "City             0\n",
       "Date             0\n",
       "PM2.5          146\n",
       "PM10           360\n",
       "NO               6\n",
       "NO2              6\n",
       "NOx              4\n",
       "NH3            203\n",
       "CO              11\n",
       "SO2              6\n",
       "O3             144\n",
       "Benzene        266\n",
       "Toluene         93\n",
       "Xylene        2009\n",
       "AQI             99\n",
       "AQI_Bucket      99\n",
       "dtype: int64"
      ]
     },
     "execution_count": 9,
     "metadata": {},
     "output_type": "execute_result"
    }
   ],
   "source": [
    "df_bangalore.isnull().sum()"
   ]
  },
  {
   "cell_type": "code",
   "execution_count": 10,
   "metadata": {},
   "outputs": [
    {
     "name": "stderr",
     "output_type": "stream",
     "text": [
      "<ipython-input-10-9761a85f9dbf>:4: SettingWithCopyWarning: \n",
      "A value is trying to be set on a copy of a slice from a DataFrame.\n",
      "Try using .loc[row_indexer,col_indexer] = value instead\n",
      "\n",
      "See the caveats in the documentation: https://pandas.pydata.org/pandas-docs/stable/user_guide/indexing.html#returning-a-view-versus-a-copy\n",
      "  df_bangalore[c] = df_bangalore[c].fillna(df_bangalore[c].mean())\n",
      "<ipython-input-10-9761a85f9dbf>:6: SettingWithCopyWarning: \n",
      "A value is trying to be set on a copy of a slice from a DataFrame.\n",
      "Try using .loc[row_indexer,col_indexer] = value instead\n",
      "\n",
      "See the caveats in the documentation: https://pandas.pydata.org/pandas-docs/stable/user_guide/indexing.html#returning-a-view-versus-a-copy\n",
      "  df_bangalore[c] = df_bangalore[c].fillna(df_bangalore[c].value_counts().index[0])\n"
     ]
    }
   ],
   "source": [
    "for c in df_bangalore.columns:\n",
    "    if df_bangalore[c].isna().sum() > 0:\n",
    "        if df_bangalore[c].dtype == 'float64':\n",
    "            df_bangalore[c] = df_bangalore[c].fillna(df_bangalore[c].mean())\n",
    "        elif df_bangalore[c].dtype == 'object':\n",
    "            df_bangalore[c] = df_bangalore[c].fillna(df_bangalore[c].value_counts().index[0])"
   ]
  },
  {
   "cell_type": "code",
   "execution_count": 11,
   "metadata": {},
   "outputs": [
    {
     "data": {
      "text/plain": [
       "City             0\n",
       "Date             0\n",
       "PM2.5            0\n",
       "PM10             0\n",
       "NO               0\n",
       "NO2              0\n",
       "NOx              0\n",
       "NH3              0\n",
       "CO               0\n",
       "SO2              0\n",
       "O3               0\n",
       "Benzene          0\n",
       "Toluene          0\n",
       "Xylene        2009\n",
       "AQI              0\n",
       "AQI_Bucket       0\n",
       "dtype: int64"
      ]
     },
     "execution_count": 11,
     "metadata": {},
     "output_type": "execute_result"
    }
   ],
   "source": [
    "df_bangalore.isnull().sum()"
   ]
  },
  {
   "cell_type": "code",
   "execution_count": 12,
   "metadata": {},
   "outputs": [
    {
     "name": "stderr",
     "output_type": "stream",
     "text": [
      "E:\\anaconda\\lib\\site-packages\\pandas\\core\\frame.py:4163: SettingWithCopyWarning: \n",
      "A value is trying to be set on a copy of a slice from a DataFrame\n",
      "\n",
      "See the caveats in the documentation: https://pandas.pydata.org/pandas-docs/stable/user_guide/indexing.html#returning-a-view-versus-a-copy\n",
      "  return super().drop(\n"
     ]
    }
   ],
   "source": [
    "df_bangalore.drop(['City' ,'Date','NO','NOx','Benzene' , 'Toluene', 'Xylene','AQI_Bucket' ], axis=1, inplace=True)"
   ]
  },
  {
   "cell_type": "code",
   "execution_count": 13,
   "metadata": {},
   "outputs": [
    {
     "data": {
      "text/html": [
       "<div>\n",
       "<style scoped>\n",
       "    .dataframe tbody tr th:only-of-type {\n",
       "        vertical-align: middle;\n",
       "    }\n",
       "\n",
       "    .dataframe tbody tr th {\n",
       "        vertical-align: top;\n",
       "    }\n",
       "\n",
       "    .dataframe thead th {\n",
       "        text-align: right;\n",
       "    }\n",
       "</style>\n",
       "<table border=\"1\" class=\"dataframe\">\n",
       "  <thead>\n",
       "    <tr style=\"text-align: right;\">\n",
       "      <th></th>\n",
       "      <th>PM2.5</th>\n",
       "      <th>PM10</th>\n",
       "      <th>NO2</th>\n",
       "      <th>NH3</th>\n",
       "      <th>CO</th>\n",
       "      <th>SO2</th>\n",
       "      <th>O3</th>\n",
       "      <th>AQI</th>\n",
       "    </tr>\n",
       "  </thead>\n",
       "  <tbody>\n",
       "    <tr>\n",
       "      <th>4294</th>\n",
       "      <td>35.819828</td>\n",
       "      <td>83.243287</td>\n",
       "      <td>17.33</td>\n",
       "      <td>20.36</td>\n",
       "      <td>0.33</td>\n",
       "      <td>3.54</td>\n",
       "      <td>10.73</td>\n",
       "      <td>94.318325</td>\n",
       "    </tr>\n",
       "    <tr>\n",
       "      <th>4295</th>\n",
       "      <td>35.819828</td>\n",
       "      <td>83.243287</td>\n",
       "      <td>19.73</td>\n",
       "      <td>23.74</td>\n",
       "      <td>1.35</td>\n",
       "      <td>3.97</td>\n",
       "      <td>22.77</td>\n",
       "      <td>94.318325</td>\n",
       "    </tr>\n",
       "    <tr>\n",
       "      <th>4296</th>\n",
       "      <td>35.819828</td>\n",
       "      <td>83.243287</td>\n",
       "      <td>19.88</td>\n",
       "      <td>4.32</td>\n",
       "      <td>17.40</td>\n",
       "      <td>13.61</td>\n",
       "      <td>12.03</td>\n",
       "      <td>94.318325</td>\n",
       "    </tr>\n",
       "    <tr>\n",
       "      <th>4297</th>\n",
       "      <td>35.819828</td>\n",
       "      <td>83.243287</td>\n",
       "      <td>21.61</td>\n",
       "      <td>0.87</td>\n",
       "      <td>5.05</td>\n",
       "      <td>6.52</td>\n",
       "      <td>17.70</td>\n",
       "      <td>94.318325</td>\n",
       "    </tr>\n",
       "    <tr>\n",
       "      <th>4298</th>\n",
       "      <td>35.819828</td>\n",
       "      <td>83.243287</td>\n",
       "      <td>22.17</td>\n",
       "      <td>31.38</td>\n",
       "      <td>1.83</td>\n",
       "      <td>4.71</td>\n",
       "      <td>12.72</td>\n",
       "      <td>94.318325</td>\n",
       "    </tr>\n",
       "  </tbody>\n",
       "</table>\n",
       "</div>"
      ],
      "text/plain": [
       "          PM2.5       PM10    NO2    NH3     CO    SO2     O3        AQI\n",
       "4294  35.819828  83.243287  17.33  20.36   0.33   3.54  10.73  94.318325\n",
       "4295  35.819828  83.243287  19.73  23.74   1.35   3.97  22.77  94.318325\n",
       "4296  35.819828  83.243287  19.88   4.32  17.40  13.61  12.03  94.318325\n",
       "4297  35.819828  83.243287  21.61   0.87   5.05   6.52  17.70  94.318325\n",
       "4298  35.819828  83.243287  22.17  31.38   1.83   4.71  12.72  94.318325"
      ]
     },
     "execution_count": 13,
     "metadata": {},
     "output_type": "execute_result"
    }
   ],
   "source": [
    "df_bangalore.head()"
   ]
  },
  {
   "cell_type": "code",
   "execution_count": 14,
   "metadata": {},
   "outputs": [],
   "source": [
    "from matplotlib import pyplot as plt\n",
    "from sklearn.linear_model import LinearRegression\n",
    "from sklearn.tree import DecisionTreeRegressor\n",
    "from sklearn.ensemble import RandomForestRegressor\n",
    "from xgboost import XGBRegressor\n",
    "from sklearn.model_selection import train_test_split\n",
    "from sklearn.metrics import mean_squared_error,r2_score\n",
    "SEED=42"
   ]
  },
  {
   "cell_type": "code",
   "execution_count": 15,
   "metadata": {},
   "outputs": [],
   "source": [
    "X = df_bangalore.drop([\"AQI\"], axis = 1).copy()\n",
    "y = df_bangalore[\"AQI\"].copy()"
   ]
  },
  {
   "cell_type": "code",
   "execution_count": 16,
   "metadata": {},
   "outputs": [],
   "source": [
    "X_train, X_test, y_train, y_test = train_test_split(X,y,test_size=0.3, random_state=40)"
   ]
  },
  {
   "cell_type": "markdown",
   "metadata": {},
   "source": [
    "### Linear Regression"
   ]
  },
  {
   "cell_type": "code",
   "execution_count": 17,
   "metadata": {},
   "outputs": [
    {
     "name": "stdout",
     "output_type": "stream",
     "text": [
      "RMSE value is = 28.837558642976433\n",
      "R-squared value is 0.45406941719671523\n"
     ]
    }
   ],
   "source": [
    "regressor = LinearRegression()\n",
    "regressor.fit(X_train, y_train)\n",
    "prediction = regressor.predict(X_test)\n",
    "rmse_Lreg = np.sqrt(mean_squared_error(y_test, prediction))\n",
    "print('RMSE value is = {}'.format(rmse_Lreg))\n",
    "r2_Lreg = r2_score(y_test, prediction)\n",
    "print('R-squared value is {}'.format(r2_Lreg))"
   ]
  },
  {
   "cell_type": "markdown",
   "metadata": {},
   "source": [
    "### RandomForest Regressor"
   ]
  },
  {
   "cell_type": "code",
   "execution_count": 18,
   "metadata": {},
   "outputs": [
    {
     "name": "stdout",
     "output_type": "stream",
     "text": [
      "RMSE value is = 23.038329366985145\n",
      "R-squared value is 0.6515644903068056\n",
      "Mean Absolute Error value is 13.86730071689256\n"
     ]
    }
   ],
   "source": [
    "RFreg_model = RandomForestRegressor()\n",
    "RFreg_model.fit(X_train,y_train)\n",
    "prediction2 = RFreg_model.predict(X_test)\n",
    "rmse_RFreg = np.sqrt(mean_squared_error(y_test, prediction2))\n",
    "print('RMSE value is = {}'.format(rmse_RFreg))\n",
    "r2_RFreg = r2_score(y_test, prediction2)\n",
    "print('R-squared value is {}'.format(r2_RFreg))\n",
    "from sklearn.metrics import mean_absolute_error\n",
    "rmse_rfreg1=mean_absolute_error(y_test,prediction2)\n",
    "print('Mean Absolute Error value is {}'.format(rmse_rfreg1))"
   ]
  },
  {
   "cell_type": "markdown",
   "metadata": {},
   "source": [
    "### Decision Tree Regressor"
   ]
  },
  {
   "cell_type": "code",
   "execution_count": 19,
   "metadata": {},
   "outputs": [
    {
     "name": "stdout",
     "output_type": "stream",
     "text": [
      "RMSE value is = 40.16733109512667\n",
      "R-squared value is -0.05917176470374441\n"
     ]
    }
   ],
   "source": [
    "regressor1 = DecisionTreeRegressor(random_state = 0)\n",
    "regressor1.fit(X_train, y_train)\n",
    "prediction4 = regressor1.predict(X_test)\n",
    "dt_reg = np.sqrt(mean_squared_error(y_test, prediction4))\n",
    "print('RMSE value is = {}'.format(dt_reg))\n",
    "r2_dt_reg = r2_score(y_test, prediction4)\n",
    "print('R-squared value is {}'.format(r2_dt_reg))"
   ]
  },
  {
   "cell_type": "markdown",
   "metadata": {},
   "source": [
    "### XGBoost Regressor "
   ]
  },
  {
   "cell_type": "code",
   "execution_count": 20,
   "metadata": {},
   "outputs": [
    {
     "name": "stdout",
     "output_type": "stream",
     "text": [
      "RMSE value is = 26.03309425188638\n",
      "R-squared value is 0.5550901467188109\n"
     ]
    }
   ],
   "source": [
    "xgbr = XGBRegressor(learning_rate = 0.1, n_estimators = 200, random_state = SEED)\n",
    "xgbr.fit(X_train,y_train)\n",
    "prediction5 = xgbr.predict(X_test)\n",
    "xgbr_reg = np.sqrt(mean_squared_error(y_test, prediction5))\n",
    "print('RMSE value is = {}'.format(xgbr_reg))\n",
    "r2_xgbr_reg = r2_score(y_test, prediction5)\n",
    "print('R-squared value is {}'.format(r2_xgbr_reg))"
   ]
  },
  {
   "cell_type": "markdown",
   "metadata": {},
   "source": [
    "### Polynomial Regressor"
   ]
  },
  {
   "cell_type": "code",
   "execution_count": 21,
   "metadata": {},
   "outputs": [
    {
     "name": "stdout",
     "output_type": "stream",
     "text": [
      "RMSE value is = 272.66661012258635\n",
      "R-squared value is -47.80725246724345\n"
     ]
    }
   ],
   "source": [
    "from sklearn.preprocessing import PolynomialFeatures\n",
    "from sklearn.linear_model import LinearRegression\n",
    "poly_reg = PolynomialFeatures(degree = 4)\n",
    "x_poly = poly_reg.fit_transform(X_train)\n",
    "regressor = LinearRegression()\n",
    "regressor.fit(x_poly, y_train)\n",
    "prediction3 = regressor.predict(poly_reg.transform(X_test))\n",
    "\n",
    "ploy_reg = np.sqrt(mean_squared_error(y_test, prediction3))\n",
    "print('RMSE value is = {}'.format(ploy_reg))\n",
    "r2_poly_reg = r2_score(y_test, prediction3)\n",
    "print('R-squared value is {}'.format(r2_poly_reg))"
   ]
  },
  {
   "cell_type": "code",
   "execution_count": 22,
   "metadata": {},
   "outputs": [
    {
     "data": {
      "text/html": [
       "<div>\n",
       "<style scoped>\n",
       "    .dataframe tbody tr th:only-of-type {\n",
       "        vertical-align: middle;\n",
       "    }\n",
       "\n",
       "    .dataframe tbody tr th {\n",
       "        vertical-align: top;\n",
       "    }\n",
       "\n",
       "    .dataframe thead th {\n",
       "        text-align: right;\n",
       "    }\n",
       "</style>\n",
       "<table border=\"1\" class=\"dataframe\">\n",
       "  <thead>\n",
       "    <tr style=\"text-align: right;\">\n",
       "      <th></th>\n",
       "      <th>Actual AQI</th>\n",
       "      <th>Predicted AQI By LinearRegression</th>\n",
       "      <th>Predicted AQI By RandomForest</th>\n",
       "      <th>Predicted AQI By DecisionTreeRegressor</th>\n",
       "    </tr>\n",
       "  </thead>\n",
       "  <tbody>\n",
       "    <tr>\n",
       "      <th>4584</th>\n",
       "      <td>140.0</td>\n",
       "      <td>89.910457</td>\n",
       "      <td>127.929099</td>\n",
       "      <td>166.000000</td>\n",
       "    </tr>\n",
       "    <tr>\n",
       "      <th>5637</th>\n",
       "      <td>78.0</td>\n",
       "      <td>78.125859</td>\n",
       "      <td>72.043183</td>\n",
       "      <td>79.000000</td>\n",
       "    </tr>\n",
       "    <tr>\n",
       "      <th>5463</th>\n",
       "      <td>77.0</td>\n",
       "      <td>76.684229</td>\n",
       "      <td>76.356366</td>\n",
       "      <td>92.000000</td>\n",
       "    </tr>\n",
       "    <tr>\n",
       "      <th>5827</th>\n",
       "      <td>118.0</td>\n",
       "      <td>114.686694</td>\n",
       "      <td>116.460000</td>\n",
       "      <td>146.000000</td>\n",
       "    </tr>\n",
       "    <tr>\n",
       "      <th>5558</th>\n",
       "      <td>69.0</td>\n",
       "      <td>81.357502</td>\n",
       "      <td>71.200000</td>\n",
       "      <td>48.000000</td>\n",
       "    </tr>\n",
       "    <tr>\n",
       "      <th>...</th>\n",
       "      <td>...</td>\n",
       "      <td>...</td>\n",
       "      <td>...</td>\n",
       "      <td>...</td>\n",
       "    </tr>\n",
       "    <tr>\n",
       "      <th>5009</th>\n",
       "      <td>134.0</td>\n",
       "      <td>103.884138</td>\n",
       "      <td>103.779550</td>\n",
       "      <td>163.000000</td>\n",
       "    </tr>\n",
       "    <tr>\n",
       "      <th>5708</th>\n",
       "      <td>141.0</td>\n",
       "      <td>107.581695</td>\n",
       "      <td>128.760000</td>\n",
       "      <td>352.000000</td>\n",
       "    </tr>\n",
       "    <tr>\n",
       "      <th>6040</th>\n",
       "      <td>72.0</td>\n",
       "      <td>67.679778</td>\n",
       "      <td>67.280000</td>\n",
       "      <td>69.000000</td>\n",
       "    </tr>\n",
       "    <tr>\n",
       "      <th>4909</th>\n",
       "      <td>60.0</td>\n",
       "      <td>74.129877</td>\n",
       "      <td>63.133183</td>\n",
       "      <td>94.318325</td>\n",
       "    </tr>\n",
       "    <tr>\n",
       "      <th>4492</th>\n",
       "      <td>156.0</td>\n",
       "      <td>134.334912</td>\n",
       "      <td>163.860000</td>\n",
       "      <td>309.000000</td>\n",
       "    </tr>\n",
       "  </tbody>\n",
       "</table>\n",
       "<p>603 rows × 4 columns</p>\n",
       "</div>"
      ],
      "text/plain": [
       "      Actual AQI  Predicted AQI By LinearRegression  \\\n",
       "4584       140.0                          89.910457   \n",
       "5637        78.0                          78.125859   \n",
       "5463        77.0                          76.684229   \n",
       "5827       118.0                         114.686694   \n",
       "5558        69.0                          81.357502   \n",
       "...          ...                                ...   \n",
       "5009       134.0                         103.884138   \n",
       "5708       141.0                         107.581695   \n",
       "6040        72.0                          67.679778   \n",
       "4909        60.0                          74.129877   \n",
       "4492       156.0                         134.334912   \n",
       "\n",
       "      Predicted AQI By RandomForest  Predicted AQI By DecisionTreeRegressor  \n",
       "4584                     127.929099                              166.000000  \n",
       "5637                      72.043183                               79.000000  \n",
       "5463                      76.356366                               92.000000  \n",
       "5827                     116.460000                              146.000000  \n",
       "5558                      71.200000                               48.000000  \n",
       "...                             ...                                     ...  \n",
       "5009                     103.779550                              163.000000  \n",
       "5708                     128.760000                              352.000000  \n",
       "6040                      67.280000                               69.000000  \n",
       "4909                      63.133183                               94.318325  \n",
       "4492                     163.860000                              309.000000  \n",
       "\n",
       "[603 rows x 4 columns]"
      ]
     },
     "execution_count": 22,
     "metadata": {},
     "output_type": "execute_result"
    }
   ],
   "source": [
    "Result= pd.DataFrame({'Actual AQI':y_test,'Predicted AQI By LinearRegression':prediction,'Predicted AQI By RandomForest':prediction2,'Predicted AQI By DecisionTreeRegressor':prediction4})\n",
    "Result"
   ]
  },
  {
   "cell_type": "code",
   "execution_count": 23,
   "metadata": {},
   "outputs": [
    {
     "data": {
      "text/html": [
       "<div>\n",
       "<style scoped>\n",
       "    .dataframe tbody tr th:only-of-type {\n",
       "        vertical-align: middle;\n",
       "    }\n",
       "\n",
       "    .dataframe tbody tr th {\n",
       "        vertical-align: top;\n",
       "    }\n",
       "\n",
       "    .dataframe thead th {\n",
       "        text-align: right;\n",
       "    }\n",
       "</style>\n",
       "<table border=\"1\" class=\"dataframe\">\n",
       "  <thead>\n",
       "    <tr style=\"text-align: right;\">\n",
       "      <th></th>\n",
       "      <th>Actual Price</th>\n",
       "      <th>Predicted AQI By LinearRegression</th>\n",
       "      <th>Predicted AQI By RandomForest</th>\n",
       "      <th>Predicted AQI By PolynomialRegressor</th>\n",
       "      <th>Predicted AQI By DecisionTreeRegressor</th>\n",
       "      <th>Predicted AQI By XgbRegressor</th>\n",
       "    </tr>\n",
       "  </thead>\n",
       "  <tbody>\n",
       "    <tr>\n",
       "      <th>4584</th>\n",
       "      <td>140.0</td>\n",
       "      <td>89.910457</td>\n",
       "      <td>127.929099</td>\n",
       "      <td>116.336539</td>\n",
       "      <td>166.000000</td>\n",
       "      <td>126.987724</td>\n",
       "    </tr>\n",
       "    <tr>\n",
       "      <th>5637</th>\n",
       "      <td>78.0</td>\n",
       "      <td>78.125859</td>\n",
       "      <td>72.043183</td>\n",
       "      <td>73.720825</td>\n",
       "      <td>79.000000</td>\n",
       "      <td>71.922722</td>\n",
       "    </tr>\n",
       "    <tr>\n",
       "      <th>5463</th>\n",
       "      <td>77.0</td>\n",
       "      <td>76.684229</td>\n",
       "      <td>76.356366</td>\n",
       "      <td>78.588618</td>\n",
       "      <td>92.000000</td>\n",
       "      <td>73.581734</td>\n",
       "    </tr>\n",
       "    <tr>\n",
       "      <th>5827</th>\n",
       "      <td>118.0</td>\n",
       "      <td>114.686694</td>\n",
       "      <td>116.460000</td>\n",
       "      <td>96.527714</td>\n",
       "      <td>146.000000</td>\n",
       "      <td>114.199799</td>\n",
       "    </tr>\n",
       "    <tr>\n",
       "      <th>5558</th>\n",
       "      <td>69.0</td>\n",
       "      <td>81.357502</td>\n",
       "      <td>71.200000</td>\n",
       "      <td>157.870045</td>\n",
       "      <td>48.000000</td>\n",
       "      <td>87.106110</td>\n",
       "    </tr>\n",
       "    <tr>\n",
       "      <th>...</th>\n",
       "      <td>...</td>\n",
       "      <td>...</td>\n",
       "      <td>...</td>\n",
       "      <td>...</td>\n",
       "      <td>...</td>\n",
       "      <td>...</td>\n",
       "    </tr>\n",
       "    <tr>\n",
       "      <th>5009</th>\n",
       "      <td>134.0</td>\n",
       "      <td>103.884138</td>\n",
       "      <td>103.779550</td>\n",
       "      <td>168.928260</td>\n",
       "      <td>163.000000</td>\n",
       "      <td>100.777802</td>\n",
       "    </tr>\n",
       "    <tr>\n",
       "      <th>5708</th>\n",
       "      <td>141.0</td>\n",
       "      <td>107.581695</td>\n",
       "      <td>128.760000</td>\n",
       "      <td>111.140106</td>\n",
       "      <td>352.000000</td>\n",
       "      <td>125.866364</td>\n",
       "    </tr>\n",
       "    <tr>\n",
       "      <th>6040</th>\n",
       "      <td>72.0</td>\n",
       "      <td>67.679778</td>\n",
       "      <td>67.280000</td>\n",
       "      <td>66.246164</td>\n",
       "      <td>69.000000</td>\n",
       "      <td>66.691315</td>\n",
       "    </tr>\n",
       "    <tr>\n",
       "      <th>4909</th>\n",
       "      <td>60.0</td>\n",
       "      <td>74.129877</td>\n",
       "      <td>63.133183</td>\n",
       "      <td>87.775968</td>\n",
       "      <td>94.318325</td>\n",
       "      <td>61.469002</td>\n",
       "    </tr>\n",
       "    <tr>\n",
       "      <th>4492</th>\n",
       "      <td>156.0</td>\n",
       "      <td>134.334912</td>\n",
       "      <td>163.860000</td>\n",
       "      <td>129.398762</td>\n",
       "      <td>309.000000</td>\n",
       "      <td>191.066986</td>\n",
       "    </tr>\n",
       "  </tbody>\n",
       "</table>\n",
       "<p>603 rows × 6 columns</p>\n",
       "</div>"
      ],
      "text/plain": [
       "      Actual Price  Predicted AQI By LinearRegression  \\\n",
       "4584         140.0                          89.910457   \n",
       "5637          78.0                          78.125859   \n",
       "5463          77.0                          76.684229   \n",
       "5827         118.0                         114.686694   \n",
       "5558          69.0                          81.357502   \n",
       "...            ...                                ...   \n",
       "5009         134.0                         103.884138   \n",
       "5708         141.0                         107.581695   \n",
       "6040          72.0                          67.679778   \n",
       "4909          60.0                          74.129877   \n",
       "4492         156.0                         134.334912   \n",
       "\n",
       "      Predicted AQI By RandomForest  Predicted AQI By PolynomialRegressor  \\\n",
       "4584                     127.929099                            116.336539   \n",
       "5637                      72.043183                             73.720825   \n",
       "5463                      76.356366                             78.588618   \n",
       "5827                     116.460000                             96.527714   \n",
       "5558                      71.200000                            157.870045   \n",
       "...                             ...                                   ...   \n",
       "5009                     103.779550                            168.928260   \n",
       "5708                     128.760000                            111.140106   \n",
       "6040                      67.280000                             66.246164   \n",
       "4909                      63.133183                             87.775968   \n",
       "4492                     163.860000                            129.398762   \n",
       "\n",
       "      Predicted AQI By DecisionTreeRegressor  Predicted AQI By XgbRegressor  \n",
       "4584                              166.000000                     126.987724  \n",
       "5637                               79.000000                      71.922722  \n",
       "5463                               92.000000                      73.581734  \n",
       "5827                              146.000000                     114.199799  \n",
       "5558                               48.000000                      87.106110  \n",
       "...                                      ...                            ...  \n",
       "5009                              163.000000                     100.777802  \n",
       "5708                              352.000000                     125.866364  \n",
       "6040                               69.000000                      66.691315  \n",
       "4909                               94.318325                      61.469002  \n",
       "4492                              309.000000                     191.066986  \n",
       "\n",
       "[603 rows x 6 columns]"
      ]
     },
     "execution_count": 23,
     "metadata": {},
     "output_type": "execute_result"
    }
   ],
   "source": [
    "Result= pd.DataFrame({'Actual Price':y_test,'Predicted AQI By LinearRegression':prediction,'Predicted AQI By RandomForest':prediction2,'Predicted AQI By PolynomialRegressor':prediction3,'Predicted AQI By DecisionTreeRegressor':prediction4,'Predicted AQI By XgbRegressor':prediction5})\n",
    "Result"
   ]
  },
  {
   "cell_type": "code",
   "execution_count": 24,
   "metadata": {},
   "outputs": [],
   "source": [
    "final=pd.DataFrame({'Actual AQI':y_test,'Predicted AQI by RF':prediction2})"
   ]
  },
  {
   "cell_type": "code",
   "execution_count": 25,
   "metadata": {
    "scrolled": true
   },
   "outputs": [
    {
     "data": {
      "text/html": [
       "<div>\n",
       "<style scoped>\n",
       "    .dataframe tbody tr th:only-of-type {\n",
       "        vertical-align: middle;\n",
       "    }\n",
       "\n",
       "    .dataframe tbody tr th {\n",
       "        vertical-align: top;\n",
       "    }\n",
       "\n",
       "    .dataframe thead th {\n",
       "        text-align: right;\n",
       "    }\n",
       "</style>\n",
       "<table border=\"1\" class=\"dataframe\">\n",
       "  <thead>\n",
       "    <tr style=\"text-align: right;\">\n",
       "      <th></th>\n",
       "      <th>Actual AQI</th>\n",
       "      <th>Predicted AQI by RF</th>\n",
       "    </tr>\n",
       "  </thead>\n",
       "  <tbody>\n",
       "    <tr>\n",
       "      <th>4584</th>\n",
       "      <td>140.0</td>\n",
       "      <td>127.929099</td>\n",
       "    </tr>\n",
       "    <tr>\n",
       "      <th>5637</th>\n",
       "      <td>78.0</td>\n",
       "      <td>72.043183</td>\n",
       "    </tr>\n",
       "    <tr>\n",
       "      <th>5463</th>\n",
       "      <td>77.0</td>\n",
       "      <td>76.356366</td>\n",
       "    </tr>\n",
       "    <tr>\n",
       "      <th>5827</th>\n",
       "      <td>118.0</td>\n",
       "      <td>116.460000</td>\n",
       "    </tr>\n",
       "    <tr>\n",
       "      <th>5558</th>\n",
       "      <td>69.0</td>\n",
       "      <td>71.200000</td>\n",
       "    </tr>\n",
       "    <tr>\n",
       "      <th>...</th>\n",
       "      <td>...</td>\n",
       "      <td>...</td>\n",
       "    </tr>\n",
       "    <tr>\n",
       "      <th>5009</th>\n",
       "      <td>134.0</td>\n",
       "      <td>103.779550</td>\n",
       "    </tr>\n",
       "    <tr>\n",
       "      <th>5708</th>\n",
       "      <td>141.0</td>\n",
       "      <td>128.760000</td>\n",
       "    </tr>\n",
       "    <tr>\n",
       "      <th>6040</th>\n",
       "      <td>72.0</td>\n",
       "      <td>67.280000</td>\n",
       "    </tr>\n",
       "    <tr>\n",
       "      <th>4909</th>\n",
       "      <td>60.0</td>\n",
       "      <td>63.133183</td>\n",
       "    </tr>\n",
       "    <tr>\n",
       "      <th>4492</th>\n",
       "      <td>156.0</td>\n",
       "      <td>163.860000</td>\n",
       "    </tr>\n",
       "  </tbody>\n",
       "</table>\n",
       "<p>603 rows × 2 columns</p>\n",
       "</div>"
      ],
      "text/plain": [
       "      Actual AQI  Predicted AQI by RF\n",
       "4584       140.0           127.929099\n",
       "5637        78.0            72.043183\n",
       "5463        77.0            76.356366\n",
       "5827       118.0           116.460000\n",
       "5558        69.0            71.200000\n",
       "...          ...                  ...\n",
       "5009       134.0           103.779550\n",
       "5708       141.0           128.760000\n",
       "6040        72.0            67.280000\n",
       "4909        60.0            63.133183\n",
       "4492       156.0           163.860000\n",
       "\n",
       "[603 rows x 2 columns]"
      ]
     },
     "execution_count": 25,
     "metadata": {},
     "output_type": "execute_result"
    }
   ],
   "source": [
    "final"
   ]
  },
  {
   "cell_type": "code",
   "execution_count": 26,
   "metadata": {},
   "outputs": [],
   "source": [
    "quality_list = []"
   ]
  },
  {
   "cell_type": "code",
   "execution_count": 27,
   "metadata": {
    "scrolled": false
   },
   "outputs": [],
   "source": [
    "for i in final['Actual AQI']:\n",
    "    if 50 >= i >= 0:\n",
    "        quality_list.append(\"GOOD\")\n",
    "    elif 100 >= i > 50:\n",
    "        quality_list.append(\"SATISFACTORY\")\n",
    "    elif 200>= i > 100:\n",
    "        quality_list.append(\"MODERATE\")\n",
    "    elif 300 >= i > 200:\n",
    "        quality_list.append(\"POOR\")\n",
    "    elif 400>= i > 300:\n",
    "        quality_list.append(\"VERY POOR\")\n",
    "    elif 500 >= i > 400:\n",
    "        quality_list.append(\"SEVERE\")\n",
    "final['AQI Pool'] = quality_list"
   ]
  },
  {
   "cell_type": "code",
   "execution_count": 28,
   "metadata": {},
   "outputs": [
    {
     "data": {
      "text/plain": [
       "array(['MODERATE', 'SATISFACTORY', 'GOOD', 'POOR'], dtype=object)"
      ]
     },
     "execution_count": 28,
     "metadata": {},
     "output_type": "execute_result"
    }
   ],
   "source": [
    "final['AQI Pool'].unique()"
   ]
  },
  {
   "cell_type": "code",
   "execution_count": 29,
   "metadata": {},
   "outputs": [],
   "source": [
    "quality_list1=[]"
   ]
  },
  {
   "cell_type": "code",
   "execution_count": 30,
   "metadata": {},
   "outputs": [],
   "source": [
    "for i in final['Predicted AQI by RF']:\n",
    "    if 50 >= i >= 0:\n",
    "        quality_list1.append(\"GOOD\")\n",
    "    elif 100 >= i > 50:\n",
    "        quality_list1.append(\"SATISFACTORY\")\n",
    "    elif 200>= i > 100:\n",
    "        quality_list1.append(\"MODERATE\")\n",
    "    elif 300 >= i > 200:\n",
    "        quality_list1.append(\"POOR\")\n",
    "    elif 400>= i > 300:\n",
    "        quality_list1.append(\"VERY POOR\")\n",
    "    elif 500 >= i > 400:\n",
    "        quality_list1.append(\"SEVERE\")\n",
    "final['Predicted AQI Pool'] = quality_list1"
   ]
  },
  {
   "cell_type": "code",
   "execution_count": 31,
   "metadata": {},
   "outputs": [
    {
     "data": {
      "text/html": [
       "<div>\n",
       "<style scoped>\n",
       "    .dataframe tbody tr th:only-of-type {\n",
       "        vertical-align: middle;\n",
       "    }\n",
       "\n",
       "    .dataframe tbody tr th {\n",
       "        vertical-align: top;\n",
       "    }\n",
       "\n",
       "    .dataframe thead th {\n",
       "        text-align: right;\n",
       "    }\n",
       "</style>\n",
       "<table border=\"1\" class=\"dataframe\">\n",
       "  <thead>\n",
       "    <tr style=\"text-align: right;\">\n",
       "      <th></th>\n",
       "      <th>Actual AQI</th>\n",
       "      <th>Predicted AQI by RF</th>\n",
       "      <th>AQI Pool</th>\n",
       "      <th>Predicted AQI Pool</th>\n",
       "    </tr>\n",
       "  </thead>\n",
       "  <tbody>\n",
       "    <tr>\n",
       "      <th>4584</th>\n",
       "      <td>140.0</td>\n",
       "      <td>127.929099</td>\n",
       "      <td>MODERATE</td>\n",
       "      <td>MODERATE</td>\n",
       "    </tr>\n",
       "    <tr>\n",
       "      <th>5637</th>\n",
       "      <td>78.0</td>\n",
       "      <td>72.043183</td>\n",
       "      <td>SATISFACTORY</td>\n",
       "      <td>SATISFACTORY</td>\n",
       "    </tr>\n",
       "    <tr>\n",
       "      <th>5463</th>\n",
       "      <td>77.0</td>\n",
       "      <td>76.356366</td>\n",
       "      <td>SATISFACTORY</td>\n",
       "      <td>SATISFACTORY</td>\n",
       "    </tr>\n",
       "    <tr>\n",
       "      <th>5827</th>\n",
       "      <td>118.0</td>\n",
       "      <td>116.460000</td>\n",
       "      <td>MODERATE</td>\n",
       "      <td>MODERATE</td>\n",
       "    </tr>\n",
       "    <tr>\n",
       "      <th>5558</th>\n",
       "      <td>69.0</td>\n",
       "      <td>71.200000</td>\n",
       "      <td>SATISFACTORY</td>\n",
       "      <td>SATISFACTORY</td>\n",
       "    </tr>\n",
       "    <tr>\n",
       "      <th>...</th>\n",
       "      <td>...</td>\n",
       "      <td>...</td>\n",
       "      <td>...</td>\n",
       "      <td>...</td>\n",
       "    </tr>\n",
       "    <tr>\n",
       "      <th>5009</th>\n",
       "      <td>134.0</td>\n",
       "      <td>103.779550</td>\n",
       "      <td>MODERATE</td>\n",
       "      <td>MODERATE</td>\n",
       "    </tr>\n",
       "    <tr>\n",
       "      <th>5708</th>\n",
       "      <td>141.0</td>\n",
       "      <td>128.760000</td>\n",
       "      <td>MODERATE</td>\n",
       "      <td>MODERATE</td>\n",
       "    </tr>\n",
       "    <tr>\n",
       "      <th>6040</th>\n",
       "      <td>72.0</td>\n",
       "      <td>67.280000</td>\n",
       "      <td>SATISFACTORY</td>\n",
       "      <td>SATISFACTORY</td>\n",
       "    </tr>\n",
       "    <tr>\n",
       "      <th>4909</th>\n",
       "      <td>60.0</td>\n",
       "      <td>63.133183</td>\n",
       "      <td>SATISFACTORY</td>\n",
       "      <td>SATISFACTORY</td>\n",
       "    </tr>\n",
       "    <tr>\n",
       "      <th>4492</th>\n",
       "      <td>156.0</td>\n",
       "      <td>163.860000</td>\n",
       "      <td>MODERATE</td>\n",
       "      <td>MODERATE</td>\n",
       "    </tr>\n",
       "  </tbody>\n",
       "</table>\n",
       "<p>603 rows × 4 columns</p>\n",
       "</div>"
      ],
      "text/plain": [
       "      Actual AQI  Predicted AQI by RF      AQI Pool Predicted AQI Pool\n",
       "4584       140.0           127.929099      MODERATE           MODERATE\n",
       "5637        78.0            72.043183  SATISFACTORY       SATISFACTORY\n",
       "5463        77.0            76.356366  SATISFACTORY       SATISFACTORY\n",
       "5827       118.0           116.460000      MODERATE           MODERATE\n",
       "5558        69.0            71.200000  SATISFACTORY       SATISFACTORY\n",
       "...          ...                  ...           ...                ...\n",
       "5009       134.0           103.779550      MODERATE           MODERATE\n",
       "5708       141.0           128.760000      MODERATE           MODERATE\n",
       "6040        72.0            67.280000  SATISFACTORY       SATISFACTORY\n",
       "4909        60.0            63.133183  SATISFACTORY       SATISFACTORY\n",
       "4492       156.0           163.860000      MODERATE           MODERATE\n",
       "\n",
       "[603 rows x 4 columns]"
      ]
     },
     "execution_count": 31,
     "metadata": {},
     "output_type": "execute_result"
    }
   ],
   "source": [
    "final"
   ]
  },
  {
   "cell_type": "code",
   "execution_count": 32,
   "metadata": {},
   "outputs": [
    {
     "data": {
      "text/plain": [
       "603"
      ]
     },
     "execution_count": 32,
     "metadata": {},
     "output_type": "execute_result"
    }
   ],
   "source": [
    "len(final)"
   ]
  },
  {
   "cell_type": "code",
   "execution_count": 33,
   "metadata": {},
   "outputs": [],
   "source": [
    "l1 = list(final['AQI Pool'])\n",
    "l2 = list(final['Predicted AQI Pool'])"
   ]
  },
  {
   "cell_type": "code",
   "execution_count": 34,
   "metadata": {},
   "outputs": [
    {
     "data": {
      "text/plain": [
       "SATISFACTORY    359\n",
       "MODERATE        188\n",
       "GOOD             41\n",
       "POOR             15\n",
       "Name: AQI Pool, dtype: int64"
      ]
     },
     "execution_count": 34,
     "metadata": {},
     "output_type": "execute_result"
    }
   ],
   "source": [
    "final['AQI Pool'].value_counts()"
   ]
  },
  {
   "cell_type": "code",
   "execution_count": 35,
   "metadata": {},
   "outputs": [
    {
     "data": {
      "text/plain": [
       "SATISFACTORY    372\n",
       "MODERATE        221\n",
       "GOOD              8\n",
       "POOR              2\n",
       "Name: Predicted AQI Pool, dtype: int64"
      ]
     },
     "execution_count": 35,
     "metadata": {},
     "output_type": "execute_result"
    }
   ],
   "source": [
    "final['Predicted AQI Pool'].value_counts()"
   ]
  },
  {
   "cell_type": "code",
   "execution_count": 36,
   "metadata": {},
   "outputs": [],
   "source": [
    "count=0"
   ]
  },
  {
   "cell_type": "code",
   "execution_count": 37,
   "metadata": {},
   "outputs": [
    {
     "name": "stdout",
     "output_type": "stream",
     "text": [
      "478\n"
     ]
    }
   ],
   "source": [
    "for i in range(len(l1)):\n",
    "    if l1[i]==l2[i]:\n",
    "        count+=1\n",
    "print(count)        "
   ]
  },
  {
   "cell_type": "code",
   "execution_count": 38,
   "metadata": {},
   "outputs": [
    {
     "name": "stdout",
     "output_type": "stream",
     "text": [
      "Accuracy: 79.27031509121062\n"
     ]
    }
   ],
   "source": [
    "print(\"Accuracy:\",count/len(final)*100)"
   ]
  },
  {
   "cell_type": "code",
   "execution_count": 39,
   "metadata": {},
   "outputs": [
    {
     "data": {
      "text/plain": [
       "<matplotlib.collections.PathCollection at 0x22812d73250>"
      ]
     },
     "execution_count": 39,
     "metadata": {},
     "output_type": "execute_result"
    },
    {
     "data": {
      "image/png": "[encoded data removed]",
      "text/plain": [
       "<Figure size 432x288 with 1 Axes>"
      ]
     },
     "metadata": {
      "needs_background": "light"
     },
     "output_type": "display_data"
    }
   ],
   "source": [
    "import seaborn as sns\n",
    "from matplotlib import pyplot as plt\n",
    "plt.scatter(y_test,prediction2)"
   ]
  },
  {
   "cell_type": "code",
   "execution_count": 40,
   "metadata": {},
   "outputs": [
    {
     "data": {
      "image/png": "[encoded data removed]",
      "text/plain": [
       "<Figure size 432x288 with 1 Axes>"
      ]
     },
     "metadata": {
      "needs_background": "light"
     },
     "output_type": "display_data"
    }
   ],
   "source": [
    "fig, ax = plt.subplots()\n",
    "ax.scatter(y_test, prediction2)\n",
    "ax.plot([y.min(), y.max()], [y.min(), y.max()], 'k--', lw = 4)\n",
    "ax.set_xlabel('Actual')\n",
    "ax.set_ylabel('Predicted')\n",
    "plt.show()"
   ]
  },
  {
   "cell_type": "code",
   "execution_count": 41,
   "metadata": {},
   "outputs": [
    {
     "data": {
      "text/plain": [
       "<AxesSubplot:>"
      ]
     },
     "execution_count": 41,
     "metadata": {},
     "output_type": "execute_result"
    },
    {
     "data": {
      "image/png": "[encoded data removed]",
      "text/plain": [
       "<Figure size 432x288 with 2 Axes>"
      ]
     },
     "metadata": {
      "needs_background": "light"
     },
     "output_type": "display_data"
    }
   ],
   "source": [
    "sns.heatmap(df_bangalore.corr(),cmap=\"viridis\",annot=True)"
   ]
  },
  {
   "cell_type": "code",
   "execution_count": null,
   "metadata": {},
   "outputs": [],
   "source": []
  },
  {
   "cell_type": "code",
   "execution_count": null,
   "metadata": {},
   "outputs": [],
   "source": []
  }
 ],
 "metadata": {
  "kernelspec": {
   "display_name": "Python 3",
   "language": "python",
   "name": "python3"
  },
  "language_info": {
   "codemirror_mode": {
    "name": "ipython",
    "version": 3
   },
   "file_extension": ".py",
   "mimetype": "text/x-python",
   "name": "python",
   "nbconvert_exporter": "python",
   "pygments_lexer": "ipython3",
   "version": "3.8.5"
  }
 },
 "nbformat": 4,
 "nbformat_minor": 4
}
